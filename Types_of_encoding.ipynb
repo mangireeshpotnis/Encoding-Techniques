{
  "nbformat": 4,
  "nbformat_minor": 0,
  "metadata": {
    "colab": {
      "name": "Types of encoding.ipynb",
      "provenance": [],
      "collapsed_sections": []
    },
    "kernelspec": {
      "name": "python3",
      "display_name": "Python 3"
    }
  },
  "cells": [
    {
      "cell_type": "code",
      "metadata": {
        "id": "KNL3RdiIKzPD",
        "colab_type": "code",
        "colab": {}
      },
      "source": [
        "import pandas as pd\n",
        "import matplotlib.pyplot as plt\n",
        "import numpy as np\n",
        "import scipy.stats\n",
        "import seaborn  as sns\n",
        "from sklearn.metrics import classification_report,accuracy_score\n",
        "from sklearn.ensemble import IsolationForest\n",
        "from sklearn.neighbors import LocalOutlierFactor\n",
        "from sklearn.svm import OneClassSVM\n"
      ],
      "execution_count": 0,
      "outputs": []
    },
    {
      "cell_type": "code",
      "metadata": {
        "id": "MQD0FApDK83O",
        "colab_type": "code",
        "colab": {}
      },
      "source": [
        "#Our aim is to predict whether the subject has depression or not \n",
        "mental_health = pd.read_csv('potentialprojectfile_on_mentalHealth.csv')"
      ],
      "execution_count": 0,
      "outputs": []
    },
    {
      "cell_type": "code",
      "metadata": {
        "id": "6baFUexdPNSG",
        "colab_type": "code",
        "outputId": "82797d39-770c-43db-ae44-f61c161a9883",
        "colab": {
          "base_uri": "https://localhost:8080/",
          "height": 34
        }
      },
      "source": [
        "mental_health.shape"
      ],
      "execution_count": 3,
      "outputs": [
        {
          "output_type": "execute_result",
          "data": {
            "text/plain": [
              "(334, 31)"
            ]
          },
          "metadata": {
            "tags": []
          },
          "execution_count": 3
        }
      ]
    },
    {
      "cell_type": "code",
      "metadata": {
        "id": "9g8kmbB4PPSb",
        "colab_type": "code",
        "outputId": "db2b3f8e-de9f-4f57-8593-b9d267a5a03d",
        "colab": {
          "base_uri": "https://localhost:8080/",
          "height": 316
        }
      },
      "source": [
        "mental_health.columns"
      ],
      "execution_count": 4,
      "outputs": [
        {
          "output_type": "execute_result",
          "data": {
            "text/plain": [
              "Index(['I am currently employed at least part-time',\n",
              "       'I identify as having a mental illness', 'Education',\n",
              "       'I have my own computer separate from a smart phone',\n",
              "       'I have been hospitalized before for my mental illness',\n",
              "       'How many days were you hospitalized for your mental illness',\n",
              "       'I am legally disabled', 'I have my regular access to the internet',\n",
              "       'I live with my parents', 'I have a gap in my resume',\n",
              "       'Total length of any gaps in my resume in months.',\n",
              "       'Annual income (including any social welfare programs) in USD',\n",
              "       'I am unemployed', 'I read outside of work and school',\n",
              "       'Annual income from social welfare programs', 'I receive food stamps',\n",
              "       'I am on section 8 housing',\n",
              "       'How many times were you hospitalized for your mental illness',\n",
              "       'Lack of concentration', 'Anxiety', 'Depression', 'Obsessive thinking',\n",
              "       'Mood swings', 'Panic attacks', 'Compulsive behavior', 'Tiredness',\n",
              "       'Age', 'Gender', 'Household Income', 'Region', 'Device Type'],\n",
              "      dtype='object')"
            ]
          },
          "metadata": {
            "tags": []
          },
          "execution_count": 4
        }
      ]
    },
    {
      "cell_type": "code",
      "metadata": {
        "id": "Z3ncTUm7PwfL",
        "colab_type": "code",
        "outputId": "6d53e755-9093-4875-9656-24456c1316b1",
        "colab": {
          "base_uri": "https://localhost:8080/",
          "height": 34
        }
      },
      "source": [
        "#droping extra/unwanted columns\n",
        "mental_health.drop(['I am unemployed','Annual income from social welfare programs'], axis=1,inplace = True)\n",
        "mental_health.shape"
      ],
      "execution_count": 5,
      "outputs": [
        {
          "output_type": "execute_result",
          "data": {
            "text/plain": [
              "(334, 29)"
            ]
          },
          "metadata": {
            "tags": []
          },
          "execution_count": 5
        }
      ]
    },
    {
      "cell_type": "code",
      "metadata": {
        "id": "NLRbXvUiQnMc",
        "colab_type": "code",
        "colab": {}
      },
      "source": [
        "mental_health.rename(columns={\"I am currently employed at least part-time\": \"Employed\", \"I identify as having a mental illness\": \"Mental patient\", \"I have my own computer separate from a smart phone\": \"Owns a PC\"},inplace = True)"
      ],
      "execution_count": 0,
      "outputs": []
    },
    {
      "cell_type": "code",
      "metadata": {
        "id": "BIXciYN4RRcC",
        "colab_type": "code",
        "colab": {}
      },
      "source": [
        "mental_health.rename(columns = {\"I have been hospitalized before for my mental illness\":\"admited for mental illness\",\"How many days were you hospitalized for your mental illness\":\"No of days hospitalized\",\"I am legally disabled\":\"legally disabled\",\"I have my regular access to the internet\":\"internet access\",\"I live with my parents\":\"iving with parents\",\"I have a gap in my resume\":\"gap in resume\",\"Annual income (including any social welfare programs) in USD\":\"annual income\",\"I read outside of work and school\":\"reads\",\"I receive food stamps\":\"Food stamps\",\"I am on section 8 housing\":\"under section 8\",\"How many times were you hospitalized for your mental illness\":\"No of times hospitalized\"},inplace = True)"
      ],
      "execution_count": 0,
      "outputs": []
    },
    {
      "cell_type": "code",
      "metadata": {
        "id": "f_8CYEELU6JH",
        "colab_type": "code",
        "outputId": "3e7ebbb4-d2e1-4599-e60c-6e5777787f3b",
        "colab": {
          "base_uri": "https://localhost:8080/",
          "height": 388
        }
      },
      "source": [
        "mental_health.describe()"
      ],
      "execution_count": 8,
      "outputs": [
        {
          "output_type": "execute_result",
          "data": {
            "text/html": [
              "<div>\n",
              "<style scoped>\n",
              "    .dataframe tbody tr th:only-of-type {\n",
              "        vertical-align: middle;\n",
              "    }\n",
              "\n",
              "    .dataframe tbody tr th {\n",
              "        vertical-align: top;\n",
              "    }\n",
              "\n",
              "    .dataframe thead th {\n",
              "        text-align: right;\n",
              "    }\n",
              "</style>\n",
              "<table border=\"1\" class=\"dataframe\">\n",
              "  <thead>\n",
              "    <tr style=\"text-align: right;\">\n",
              "      <th></th>\n",
              "      <th>Employed</th>\n",
              "      <th>Mental patient</th>\n",
              "      <th>Owns a PC</th>\n",
              "      <th>admited for mental illness</th>\n",
              "      <th>No of days hospitalized</th>\n",
              "      <th>legally disabled</th>\n",
              "      <th>internet access</th>\n",
              "      <th>iving with parents</th>\n",
              "      <th>gap in resume</th>\n",
              "      <th>Total length of any gaps in my resume in months.</th>\n",
              "      <th>annual income</th>\n",
              "      <th>reads</th>\n",
              "      <th>Food stamps</th>\n",
              "      <th>under section 8</th>\n",
              "      <th>No of times hospitalized</th>\n",
              "      <th>Lack of concentration</th>\n",
              "      <th>Anxiety</th>\n",
              "      <th>Depression</th>\n",
              "      <th>Obsessive thinking</th>\n",
              "      <th>Mood swings</th>\n",
              "      <th>Panic attacks</th>\n",
              "      <th>Compulsive behavior</th>\n",
              "      <th>Tiredness</th>\n",
              "    </tr>\n",
              "  </thead>\n",
              "  <tbody>\n",
              "    <tr>\n",
              "      <th>count</th>\n",
              "      <td>334.000000</td>\n",
              "      <td>334.000000</td>\n",
              "      <td>334.000000</td>\n",
              "      <td>334.000000</td>\n",
              "      <td>297.000000</td>\n",
              "      <td>334.000000</td>\n",
              "      <td>334.000000</td>\n",
              "      <td>334.000000</td>\n",
              "      <td>334.000000</td>\n",
              "      <td>334.000000</td>\n",
              "      <td>334.000000</td>\n",
              "      <td>334.000000</td>\n",
              "      <td>334.000000</td>\n",
              "      <td>334.000000</td>\n",
              "      <td>334.000000</td>\n",
              "      <td>333.000000</td>\n",
              "      <td>334.000000</td>\n",
              "      <td>334.000000</td>\n",
              "      <td>333.000000</td>\n",
              "      <td>333.000000</td>\n",
              "      <td>333.000000</td>\n",
              "      <td>333.000000</td>\n",
              "      <td>333.000000</td>\n",
              "    </tr>\n",
              "    <tr>\n",
              "      <th>mean</th>\n",
              "      <td>0.679641</td>\n",
              "      <td>0.239521</td>\n",
              "      <td>0.874251</td>\n",
              "      <td>0.077844</td>\n",
              "      <td>3.276094</td>\n",
              "      <td>0.098802</td>\n",
              "      <td>0.964072</td>\n",
              "      <td>0.110778</td>\n",
              "      <td>0.245509</td>\n",
              "      <td>8.497006</td>\n",
              "      <td>37.425150</td>\n",
              "      <td>0.889222</td>\n",
              "      <td>0.065868</td>\n",
              "      <td>0.020958</td>\n",
              "      <td>1.194611</td>\n",
              "      <td>0.153153</td>\n",
              "      <td>0.299401</td>\n",
              "      <td>0.257485</td>\n",
              "      <td>0.126126</td>\n",
              "      <td>0.114114</td>\n",
              "      <td>0.147147</td>\n",
              "      <td>0.087087</td>\n",
              "      <td>0.300300</td>\n",
              "    </tr>\n",
              "    <tr>\n",
              "      <th>std</th>\n",
              "      <td>0.467315</td>\n",
              "      <td>0.427431</td>\n",
              "      <td>0.332063</td>\n",
              "      <td>0.268328</td>\n",
              "      <td>14.126045</td>\n",
              "      <td>0.298844</td>\n",
              "      <td>0.186390</td>\n",
              "      <td>0.314328</td>\n",
              "      <td>0.431034</td>\n",
              "      <td>20.722643</td>\n",
              "      <td>30.651564</td>\n",
              "      <td>0.314328</td>\n",
              "      <td>0.248424</td>\n",
              "      <td>0.143459</td>\n",
              "      <td>8.115227</td>\n",
              "      <td>0.360677</td>\n",
              "      <td>0.458683</td>\n",
              "      <td>0.437905</td>\n",
              "      <td>0.332491</td>\n",
              "      <td>0.318428</td>\n",
              "      <td>0.354786</td>\n",
              "      <td>0.282387</td>\n",
              "      <td>0.459078</td>\n",
              "    </tr>\n",
              "    <tr>\n",
              "      <th>min</th>\n",
              "      <td>0.000000</td>\n",
              "      <td>0.000000</td>\n",
              "      <td>0.000000</td>\n",
              "      <td>0.000000</td>\n",
              "      <td>0.000000</td>\n",
              "      <td>0.000000</td>\n",
              "      <td>0.000000</td>\n",
              "      <td>0.000000</td>\n",
              "      <td>0.000000</td>\n",
              "      <td>0.000000</td>\n",
              "      <td>0.000000</td>\n",
              "      <td>0.000000</td>\n",
              "      <td>0.000000</td>\n",
              "      <td>0.000000</td>\n",
              "      <td>0.000000</td>\n",
              "      <td>0.000000</td>\n",
              "      <td>0.000000</td>\n",
              "      <td>0.000000</td>\n",
              "      <td>0.000000</td>\n",
              "      <td>0.000000</td>\n",
              "      <td>0.000000</td>\n",
              "      <td>0.000000</td>\n",
              "      <td>0.000000</td>\n",
              "    </tr>\n",
              "    <tr>\n",
              "      <th>25%</th>\n",
              "      <td>0.000000</td>\n",
              "      <td>0.000000</td>\n",
              "      <td>1.000000</td>\n",
              "      <td>0.000000</td>\n",
              "      <td>0.000000</td>\n",
              "      <td>0.000000</td>\n",
              "      <td>1.000000</td>\n",
              "      <td>0.000000</td>\n",
              "      <td>0.000000</td>\n",
              "      <td>0.000000</td>\n",
              "      <td>12.000000</td>\n",
              "      <td>1.000000</td>\n",
              "      <td>0.000000</td>\n",
              "      <td>0.000000</td>\n",
              "      <td>0.000000</td>\n",
              "      <td>0.000000</td>\n",
              "      <td>0.000000</td>\n",
              "      <td>0.000000</td>\n",
              "      <td>0.000000</td>\n",
              "      <td>0.000000</td>\n",
              "      <td>0.000000</td>\n",
              "      <td>0.000000</td>\n",
              "      <td>0.000000</td>\n",
              "    </tr>\n",
              "    <tr>\n",
              "      <th>50%</th>\n",
              "      <td>1.000000</td>\n",
              "      <td>0.000000</td>\n",
              "      <td>1.000000</td>\n",
              "      <td>0.000000</td>\n",
              "      <td>0.000000</td>\n",
              "      <td>0.000000</td>\n",
              "      <td>1.000000</td>\n",
              "      <td>0.000000</td>\n",
              "      <td>0.000000</td>\n",
              "      <td>0.000000</td>\n",
              "      <td>30.000000</td>\n",
              "      <td>1.000000</td>\n",
              "      <td>0.000000</td>\n",
              "      <td>0.000000</td>\n",
              "      <td>0.000000</td>\n",
              "      <td>0.000000</td>\n",
              "      <td>0.000000</td>\n",
              "      <td>0.000000</td>\n",
              "      <td>0.000000</td>\n",
              "      <td>0.000000</td>\n",
              "      <td>0.000000</td>\n",
              "      <td>0.000000</td>\n",
              "      <td>0.000000</td>\n",
              "    </tr>\n",
              "    <tr>\n",
              "      <th>75%</th>\n",
              "      <td>1.000000</td>\n",
              "      <td>0.000000</td>\n",
              "      <td>1.000000</td>\n",
              "      <td>0.000000</td>\n",
              "      <td>0.000000</td>\n",
              "      <td>0.000000</td>\n",
              "      <td>1.000000</td>\n",
              "      <td>0.000000</td>\n",
              "      <td>0.000000</td>\n",
              "      <td>4.750000</td>\n",
              "      <td>55.000000</td>\n",
              "      <td>1.000000</td>\n",
              "      <td>0.000000</td>\n",
              "      <td>0.000000</td>\n",
              "      <td>0.000000</td>\n",
              "      <td>0.000000</td>\n",
              "      <td>1.000000</td>\n",
              "      <td>1.000000</td>\n",
              "      <td>0.000000</td>\n",
              "      <td>0.000000</td>\n",
              "      <td>0.000000</td>\n",
              "      <td>0.000000</td>\n",
              "      <td>1.000000</td>\n",
              "    </tr>\n",
              "    <tr>\n",
              "      <th>max</th>\n",
              "      <td>1.000000</td>\n",
              "      <td>1.000000</td>\n",
              "      <td>1.000000</td>\n",
              "      <td>1.000000</td>\n",
              "      <td>100.000000</td>\n",
              "      <td>1.000000</td>\n",
              "      <td>1.000000</td>\n",
              "      <td>1.000000</td>\n",
              "      <td>1.000000</td>\n",
              "      <td>100.000000</td>\n",
              "      <td>100.000000</td>\n",
              "      <td>1.000000</td>\n",
              "      <td>1.000000</td>\n",
              "      <td>1.000000</td>\n",
              "      <td>100.000000</td>\n",
              "      <td>1.000000</td>\n",
              "      <td>1.000000</td>\n",
              "      <td>1.000000</td>\n",
              "      <td>1.000000</td>\n",
              "      <td>1.000000</td>\n",
              "      <td>1.000000</td>\n",
              "      <td>1.000000</td>\n",
              "      <td>1.000000</td>\n",
              "    </tr>\n",
              "  </tbody>\n",
              "</table>\n",
              "</div>"
            ],
            "text/plain": [
              "         Employed  Mental patient  ...  Compulsive behavior   Tiredness\n",
              "count  334.000000      334.000000  ...           333.000000  333.000000\n",
              "mean     0.679641        0.239521  ...             0.087087    0.300300\n",
              "std      0.467315        0.427431  ...             0.282387    0.459078\n",
              "min      0.000000        0.000000  ...             0.000000    0.000000\n",
              "25%      0.000000        0.000000  ...             0.000000    0.000000\n",
              "50%      1.000000        0.000000  ...             0.000000    0.000000\n",
              "75%      1.000000        0.000000  ...             0.000000    1.000000\n",
              "max      1.000000        1.000000  ...             1.000000    1.000000\n",
              "\n",
              "[8 rows x 23 columns]"
            ]
          },
          "metadata": {
            "tags": []
          },
          "execution_count": 8
        }
      ]
    },
    {
      "cell_type": "code",
      "metadata": {
        "id": "fitYU_eZuSnv",
        "colab_type": "code",
        "colab": {
          "base_uri": "https://localhost:8080/",
          "height": 526
        },
        "outputId": "f6f1c5e4-eb5f-40f6-8908-152f558e848c"
      },
      "source": [
        "sns.heatmap(mental_health.isnull(),yticklabels = False, cbar = False , cmap ='viridis')\n"
      ],
      "execution_count": 9,
      "outputs": [
        {
          "output_type": "execute_result",
          "data": {
            "text/plain": [
              "<matplotlib.axes._subplots.AxesSubplot at 0x7f6fbf1514a8>"
            ]
          },
          "metadata": {
            "tags": []
          },
          "execution_count": 9
        },
        {
          "output_type": "display_data",
          "data": {
            "image/png": "[encoded data removed]",
            "text/plain": [
              "<Figure size 432x288 with 1 Axes>"
            ]
          },
          "metadata": {
            "tags": []
          }
        }
      ]
    },
    {
      "cell_type": "code",
      "metadata": {
        "id": "jo1pcnUsvQpP",
        "colab_type": "code",
        "outputId": "3b9b741e-aafa-495c-d09a-cdb93735dfd3",
        "colab": {
          "base_uri": "https://localhost:8080/",
          "height": 545
        }
      },
      "source": [
        "mental_health.isnull().sum()/len(mental_health)"
      ],
      "execution_count": 10,
      "outputs": [
        {
          "output_type": "execute_result",
          "data": {
            "text/plain": [
              "Employed                                            0.000000\n",
              "Mental patient                                      0.000000\n",
              "Education                                           0.000000\n",
              "Owns a PC                                           0.000000\n",
              "admited for mental illness                          0.000000\n",
              "No of days hospitalized                             0.110778\n",
              "legally disabled                                    0.000000\n",
              "internet access                                     0.000000\n",
              "iving with parents                                  0.000000\n",
              "gap in resume                                       0.000000\n",
              "Total length of any gaps in my resume in months.    0.000000\n",
              "annual income                                       0.000000\n",
              "reads                                               0.000000\n",
              "Food stamps                                         0.000000\n",
              "under section 8                                     0.000000\n",
              "No of times hospitalized                            0.000000\n",
              "Lack of concentration                               0.002994\n",
              "Anxiety                                             0.000000\n",
              "Depression                                          0.000000\n",
              "Obsessive thinking                                  0.002994\n",
              "Mood swings                                         0.002994\n",
              "Panic attacks                                       0.002994\n",
              "Compulsive behavior                                 0.002994\n",
              "Tiredness                                           0.002994\n",
              "Age                                                 0.000000\n",
              "Gender                                              0.000000\n",
              "Household Income                                    0.000000\n",
              "Region                                              0.005988\n",
              "Device Type                                         0.000000\n",
              "dtype: float64"
            ]
          },
          "metadata": {
            "tags": []
          },
          "execution_count": 10
        }
      ]
    },
    {
      "cell_type": "code",
      "metadata": {
        "id": "TNsFhkt9vjmD",
        "colab_type": "code",
        "colab": {}
      },
      "source": [
        "days_mean =mental_health['No of days hospitalized'].mean()\n",
        "mental_health['No of days hospitalized'].fillna(days_mean,inplace=True)\n",
        "\n"
      ],
      "execution_count": 0,
      "outputs": []
    },
    {
      "cell_type": "code",
      "metadata": {
        "id": "r-k4XAPfv_cN",
        "colab_type": "code",
        "outputId": "d76c0cce-5a1e-4c03-ac5c-de27b83be481",
        "colab": {
          "base_uri": "https://localhost:8080/",
          "height": 467
        }
      },
      "source": [
        "mental_health.tail()"
      ],
      "execution_count": 12,
      "outputs": [
        {
          "output_type": "execute_result",
          "data": {
            "text/html": [
              "<div>\n",
              "<style scoped>\n",
              "    .dataframe tbody tr th:only-of-type {\n",
              "        vertical-align: middle;\n",
              "    }\n",
              "\n",
              "    .dataframe tbody tr th {\n",
              "        vertical-align: top;\n",
              "    }\n",
              "\n",
              "    .dataframe thead th {\n",
              "        text-align: right;\n",
              "    }\n",
              "</style>\n",
              "<table border=\"1\" class=\"dataframe\">\n",
              "  <thead>\n",
              "    <tr style=\"text-align: right;\">\n",
              "      <th></th>\n",
              "      <th>Employed</th>\n",
              "      <th>Mental patient</th>\n",
              "      <th>Education</th>\n",
              "      <th>Owns a PC</th>\n",
              "      <th>admited for mental illness</th>\n",
              "      <th>No of days hospitalized</th>\n",
              "      <th>legally disabled</th>\n",
              "      <th>internet access</th>\n",
              "      <th>iving with parents</th>\n",
              "      <th>gap in resume</th>\n",
              "      <th>Total length of any gaps in my resume in months.</th>\n",
              "      <th>annual income</th>\n",
              "      <th>reads</th>\n",
              "      <th>Food stamps</th>\n",
              "      <th>under section 8</th>\n",
              "      <th>No of times hospitalized</th>\n",
              "      <th>Lack of concentration</th>\n",
              "      <th>Anxiety</th>\n",
              "      <th>Depression</th>\n",
              "      <th>Obsessive thinking</th>\n",
              "      <th>Mood swings</th>\n",
              "      <th>Panic attacks</th>\n",
              "      <th>Compulsive behavior</th>\n",
              "      <th>Tiredness</th>\n",
              "      <th>Age</th>\n",
              "      <th>Gender</th>\n",
              "      <th>Household Income</th>\n",
              "      <th>Region</th>\n",
              "      <th>Device Type</th>\n",
              "    </tr>\n",
              "  </thead>\n",
              "  <tbody>\n",
              "    <tr>\n",
              "      <th>329</th>\n",
              "      <td>0</td>\n",
              "      <td>0</td>\n",
              "      <td>High School or GED</td>\n",
              "      <td>1</td>\n",
              "      <td>0</td>\n",
              "      <td>3.276094</td>\n",
              "      <td>1</td>\n",
              "      <td>1</td>\n",
              "      <td>0</td>\n",
              "      <td>0</td>\n",
              "      <td>0</td>\n",
              "      <td>0</td>\n",
              "      <td>1</td>\n",
              "      <td>0</td>\n",
              "      <td>0</td>\n",
              "      <td>0</td>\n",
              "      <td>0.0</td>\n",
              "      <td>0</td>\n",
              "      <td>0</td>\n",
              "      <td>0.0</td>\n",
              "      <td>0.0</td>\n",
              "      <td>0.0</td>\n",
              "      <td>0.0</td>\n",
              "      <td>1.0</td>\n",
              "      <td>45-60</td>\n",
              "      <td>Female</td>\n",
              "      <td>Prefer not to answer</td>\n",
              "      <td>Mountain</td>\n",
              "      <td>Android Phone / Tablet</td>\n",
              "    </tr>\n",
              "    <tr>\n",
              "      <th>330</th>\n",
              "      <td>1</td>\n",
              "      <td>0</td>\n",
              "      <td>Some Undergraduate</td>\n",
              "      <td>1</td>\n",
              "      <td>0</td>\n",
              "      <td>0.000000</td>\n",
              "      <td>0</td>\n",
              "      <td>1</td>\n",
              "      <td>1</td>\n",
              "      <td>0</td>\n",
              "      <td>0</td>\n",
              "      <td>62</td>\n",
              "      <td>1</td>\n",
              "      <td>0</td>\n",
              "      <td>0</td>\n",
              "      <td>0</td>\n",
              "      <td>0.0</td>\n",
              "      <td>0</td>\n",
              "      <td>0</td>\n",
              "      <td>0.0</td>\n",
              "      <td>0.0</td>\n",
              "      <td>0.0</td>\n",
              "      <td>0.0</td>\n",
              "      <td>0.0</td>\n",
              "      <td>18-29</td>\n",
              "      <td>Male</td>\n",
              "      <td>$50,000-$74,999</td>\n",
              "      <td>Pacific</td>\n",
              "      <td>Windows Desktop / Laptop</td>\n",
              "    </tr>\n",
              "    <tr>\n",
              "      <th>331</th>\n",
              "      <td>1</td>\n",
              "      <td>0</td>\n",
              "      <td>Some Undergraduate</td>\n",
              "      <td>1</td>\n",
              "      <td>0</td>\n",
              "      <td>0.000000</td>\n",
              "      <td>0</td>\n",
              "      <td>1</td>\n",
              "      <td>0</td>\n",
              "      <td>0</td>\n",
              "      <td>0</td>\n",
              "      <td>0</td>\n",
              "      <td>1</td>\n",
              "      <td>1</td>\n",
              "      <td>0</td>\n",
              "      <td>1</td>\n",
              "      <td>0.0</td>\n",
              "      <td>0</td>\n",
              "      <td>0</td>\n",
              "      <td>0.0</td>\n",
              "      <td>0.0</td>\n",
              "      <td>0.0</td>\n",
              "      <td>0.0</td>\n",
              "      <td>0.0</td>\n",
              "      <td>&gt; 60</td>\n",
              "      <td>Female</td>\n",
              "      <td>$10,000-$24,999</td>\n",
              "      <td>West North Central</td>\n",
              "      <td>Windows Desktop / Laptop</td>\n",
              "    </tr>\n",
              "    <tr>\n",
              "      <th>332</th>\n",
              "      <td>0</td>\n",
              "      <td>1</td>\n",
              "      <td>Some Undergraduate</td>\n",
              "      <td>0</td>\n",
              "      <td>1</td>\n",
              "      <td>1.000000</td>\n",
              "      <td>1</td>\n",
              "      <td>1</td>\n",
              "      <td>1</td>\n",
              "      <td>1</td>\n",
              "      <td>30</td>\n",
              "      <td>12</td>\n",
              "      <td>1</td>\n",
              "      <td>1</td>\n",
              "      <td>0</td>\n",
              "      <td>3</td>\n",
              "      <td>1.0</td>\n",
              "      <td>1</td>\n",
              "      <td>1</td>\n",
              "      <td>1.0</td>\n",
              "      <td>1.0</td>\n",
              "      <td>1.0</td>\n",
              "      <td>1.0</td>\n",
              "      <td>1.0</td>\n",
              "      <td>18-29</td>\n",
              "      <td>Female</td>\n",
              "      <td>$0-$9,999</td>\n",
              "      <td>West South Central</td>\n",
              "      <td>Android Phone / Tablet</td>\n",
              "    </tr>\n",
              "    <tr>\n",
              "      <th>333</th>\n",
              "      <td>1</td>\n",
              "      <td>1</td>\n",
              "      <td>Some Undergraduate</td>\n",
              "      <td>1</td>\n",
              "      <td>0</td>\n",
              "      <td>0.000000</td>\n",
              "      <td>1</td>\n",
              "      <td>1</td>\n",
              "      <td>0</td>\n",
              "      <td>0</td>\n",
              "      <td>0</td>\n",
              "      <td>25</td>\n",
              "      <td>1</td>\n",
              "      <td>0</td>\n",
              "      <td>0</td>\n",
              "      <td>0</td>\n",
              "      <td>NaN</td>\n",
              "      <td>1</td>\n",
              "      <td>1</td>\n",
              "      <td>NaN</td>\n",
              "      <td>NaN</td>\n",
              "      <td>NaN</td>\n",
              "      <td>NaN</td>\n",
              "      <td>NaN</td>\n",
              "      <td>18-29</td>\n",
              "      <td>Female</td>\n",
              "      <td>$10,000-$24,999</td>\n",
              "      <td>Pacific</td>\n",
              "      <td>Android Phone / Tablet</td>\n",
              "    </tr>\n",
              "  </tbody>\n",
              "</table>\n",
              "</div>"
            ],
            "text/plain": [
              "     Employed  Mental patient  ...              Region               Device Type\n",
              "329         0               0  ...            Mountain    Android Phone / Tablet\n",
              "330         1               0  ...             Pacific  Windows Desktop / Laptop\n",
              "331         1               0  ...  West North Central  Windows Desktop / Laptop\n",
              "332         0               1  ...  West South Central    Android Phone / Tablet\n",
              "333         1               1  ...             Pacific    Android Phone / Tablet\n",
              "\n",
              "[5 rows x 29 columns]"
            ]
          },
          "metadata": {
            "tags": []
          },
          "execution_count": 12
        }
      ]
    },
    {
      "cell_type": "code",
      "metadata": {
        "id": "zoD285SJwPm0",
        "colab_type": "code",
        "colab": {}
      },
      "source": [
        "mental_health[mental_health.isnull().any(axis=1)]\n",
        "mental_health.drop([77,203,333],inplace = True)\n"
      ],
      "execution_count": 0,
      "outputs": []
    },
    {
      "cell_type": "code",
      "metadata": {
        "id": "UXTzTG8z_mR7",
        "colab_type": "code",
        "outputId": "d1f1f8fa-459c-4727-dae6-c8c971c9629e",
        "colab": {
          "base_uri": "https://localhost:8080/",
          "height": 545
        }
      },
      "source": [
        "mental_health.dtypes"
      ],
      "execution_count": 14,
      "outputs": [
        {
          "output_type": "execute_result",
          "data": {
            "text/plain": [
              "Employed                                              int64\n",
              "Mental patient                                        int64\n",
              "Education                                            object\n",
              "Owns a PC                                             int64\n",
              "admited for mental illness                            int64\n",
              "No of days hospitalized                             float64\n",
              "legally disabled                                      int64\n",
              "internet access                                       int64\n",
              "iving with parents                                    int64\n",
              "gap in resume                                         int64\n",
              "Total length of any gaps in my resume in months.      int64\n",
              "annual income                                         int64\n",
              "reads                                                 int64\n",
              "Food stamps                                           int64\n",
              "under section 8                                       int64\n",
              "No of times hospitalized                              int64\n",
              "Lack of concentration                               float64\n",
              "Anxiety                                               int64\n",
              "Depression                                            int64\n",
              "Obsessive thinking                                  float64\n",
              "Mood swings                                         float64\n",
              "Panic attacks                                       float64\n",
              "Compulsive behavior                                 float64\n",
              "Tiredness                                           float64\n",
              "Age                                                  object\n",
              "Gender                                               object\n",
              "Household Income                                     object\n",
              "Region                                               object\n",
              "Device Type                                          object\n",
              "dtype: object"
            ]
          },
          "metadata": {
            "tags": []
          },
          "execution_count": 14
        }
      ]
    },
    {
      "cell_type": "code",
      "metadata": {
        "id": "qbyBEh91AfJO",
        "colab_type": "code",
        "colab": {}
      },
      "source": [
        "mental_health['No of days hospitalized'] =mental_health['No of days hospitalized'].astype(int)\n",
        "mental_health['Lack of concentration'] =mental_health['Lack of concentration'].astype(int)\n",
        "mental_health['Obsessive thinking'] =mental_health['Obsessive thinking'].astype(int)\n",
        "mental_health['Mood swings'] =mental_health['Mood swings'].astype(int)\n",
        "mental_health['Panic attacks'] =mental_health['Panic attacks'].astype(int)\n",
        "mental_health['Compulsive behavior'] =mental_health['Compulsive behavior'].astype(int)\n",
        "mental_health['Tiredness'] =mental_health['Tiredness'].astype(int)"
      ],
      "execution_count": 0,
      "outputs": []
    },
    {
      "cell_type": "code",
      "metadata": {
        "id": "dwgMZOwf0m7W",
        "colab_type": "code",
        "outputId": "4d584669-ae3b-40ce-b451-fefce6f8569b",
        "colab": {
          "base_uri": "https://localhost:8080/",
          "height": 545
        }
      },
      "source": [
        "mental_health.isnull().sum()"
      ],
      "execution_count": 16,
      "outputs": [
        {
          "output_type": "execute_result",
          "data": {
            "text/plain": [
              "Employed                                            0\n",
              "Mental patient                                      0\n",
              "Education                                           0\n",
              "Owns a PC                                           0\n",
              "admited for mental illness                          0\n",
              "No of days hospitalized                             0\n",
              "legally disabled                                    0\n",
              "internet access                                     0\n",
              "iving with parents                                  0\n",
              "gap in resume                                       0\n",
              "Total length of any gaps in my resume in months.    0\n",
              "annual income                                       0\n",
              "reads                                               0\n",
              "Food stamps                                         0\n",
              "under section 8                                     0\n",
              "No of times hospitalized                            0\n",
              "Lack of concentration                               0\n",
              "Anxiety                                             0\n",
              "Depression                                          0\n",
              "Obsessive thinking                                  0\n",
              "Mood swings                                         0\n",
              "Panic attacks                                       0\n",
              "Compulsive behavior                                 0\n",
              "Tiredness                                           0\n",
              "Age                                                 0\n",
              "Gender                                              0\n",
              "Household Income                                    0\n",
              "Region                                              0\n",
              "Device Type                                         0\n",
              "dtype: int64"
            ]
          },
          "metadata": {
            "tags": []
          },
          "execution_count": 16
        }
      ]
    },
    {
      "cell_type": "code",
      "metadata": {
        "id": "k98Wp92o1DF8",
        "colab_type": "code",
        "outputId": "55311acf-9f28-468f-9a6e-ab4bd3e97ff5",
        "colab": {
          "base_uri": "https://localhost:8080/",
          "height": 1000
        }
      },
      "source": [
        "#getting correlation among features\n",
        "corrmat = mental_health.corr()\n",
        "top_corr_features = corrmat.index\n",
        "plt.figure(figsize=(15,15))\n",
        "#plot heat map\n",
        "g=sns.heatmap(mental_health[top_corr_features].corr(),annot=True,cmap=\"viridis\")"
      ],
      "execution_count": 17,
      "outputs": [
        {
          "output_type": "display_data",
          "data": {
            "image/png": "[encoded data removed]",
            "text/plain": [
              "<Figure size 1080x1080 with 2 Axes>"
            ]
          },
          "metadata": {
            "tags": []
          }
        }
      ]
    },
    {
      "cell_type": "markdown",
      "metadata": {
        "id": "CTzUtjBsPe26",
        "colab_type": "text"
      },
      "source": [
        "#first we'll try to accomplish our task using label encoding"
      ]
    },
    {
      "cell_type": "code",
      "metadata": {
        "id": "jxsfLAFLWHKv",
        "colab_type": "code",
        "outputId": "3a04487b-38d2-4ec0-bfb8-1ec21c62d929",
        "colab": {
          "base_uri": "https://localhost:8080/",
          "height": 467
        }
      },
      "source": [
        "from sklearn.preprocessing import LabelEncoder \n",
        " \n",
        "\n",
        "\n",
        "label_encoder = LabelEncoder()\n",
        "mental_health['education_encoded'] = label_encoder.fit_transform(mental_health['Education'])\n",
        "mental_health['Age_encoded']=label_encoder.fit_transform(mental_health['Age'])\n",
        "mental_health['gender_encoded']=label_encoder.fit_transform(mental_health['Gender'])\n",
        "mental_health['houseincome']=label_encoder.fit_transform(mental_health['Household Income'])\n",
        "mental_health['Region_encoded']=label_encoder.fit_transform(mental_health['Region'])\n",
        "mental_health['Device_type']=label_encoder.fit_transform(mental_health['Device Type'])\n",
        "\n",
        "\n",
        "mental_health.head()"
      ],
      "execution_count": 18,
      "outputs": [
        {
          "output_type": "execute_result",
          "data": {
            "text/html": [
              "<div>\n",
              "<style scoped>\n",
              "    .dataframe tbody tr th:only-of-type {\n",
              "        vertical-align: middle;\n",
              "    }\n",
              "\n",
              "    .dataframe tbody tr th {\n",
              "        vertical-align: top;\n",
              "    }\n",
              "\n",
              "    .dataframe thead th {\n",
              "        text-align: right;\n",
              "    }\n",
              "</style>\n",
              "<table border=\"1\" class=\"dataframe\">\n",
              "  <thead>\n",
              "    <tr style=\"text-align: right;\">\n",
              "      <th></th>\n",
              "      <th>Employed</th>\n",
              "      <th>Mental patient</th>\n",
              "      <th>Education</th>\n",
              "      <th>Owns a PC</th>\n",
              "      <th>admited for mental illness</th>\n",
              "      <th>No of days hospitalized</th>\n",
              "      <th>legally disabled</th>\n",
              "      <th>internet access</th>\n",
              "      <th>iving with parents</th>\n",
              "      <th>gap in resume</th>\n",
              "      <th>Total length of any gaps in my resume in months.</th>\n",
              "      <th>annual income</th>\n",
              "      <th>reads</th>\n",
              "      <th>Food stamps</th>\n",
              "      <th>under section 8</th>\n",
              "      <th>No of times hospitalized</th>\n",
              "      <th>Lack of concentration</th>\n",
              "      <th>Anxiety</th>\n",
              "      <th>Depression</th>\n",
              "      <th>Obsessive thinking</th>\n",
              "      <th>Mood swings</th>\n",
              "      <th>Panic attacks</th>\n",
              "      <th>Compulsive behavior</th>\n",
              "      <th>Tiredness</th>\n",
              "      <th>Age</th>\n",
              "      <th>Gender</th>\n",
              "      <th>Household Income</th>\n",
              "      <th>Region</th>\n",
              "      <th>Device Type</th>\n",
              "      <th>education_encoded</th>\n",
              "      <th>Age_encoded</th>\n",
              "      <th>gender_encoded</th>\n",
              "      <th>houseincome</th>\n",
              "      <th>Region_encoded</th>\n",
              "      <th>Device_type</th>\n",
              "    </tr>\n",
              "  </thead>\n",
              "  <tbody>\n",
              "    <tr>\n",
              "      <th>0</th>\n",
              "      <td>0</td>\n",
              "      <td>0</td>\n",
              "      <td>High School or GED</td>\n",
              "      <td>0</td>\n",
              "      <td>0</td>\n",
              "      <td>0</td>\n",
              "      <td>0</td>\n",
              "      <td>1</td>\n",
              "      <td>0</td>\n",
              "      <td>1</td>\n",
              "      <td>24</td>\n",
              "      <td>35</td>\n",
              "      <td>1</td>\n",
              "      <td>0</td>\n",
              "      <td>0</td>\n",
              "      <td>0</td>\n",
              "      <td>1</td>\n",
              "      <td>1</td>\n",
              "      <td>1</td>\n",
              "      <td>1</td>\n",
              "      <td>0</td>\n",
              "      <td>1</td>\n",
              "      <td>0</td>\n",
              "      <td>0</td>\n",
              "      <td>30-44</td>\n",
              "      <td>Male</td>\n",
              "      <td>$25,000-$49,999</td>\n",
              "      <td>Mountain</td>\n",
              "      <td>Android Phone / Tablet</td>\n",
              "      <td>3</td>\n",
              "      <td>1</td>\n",
              "      <td>1</td>\n",
              "      <td>7</td>\n",
              "      <td>3</td>\n",
              "      <td>0</td>\n",
              "    </tr>\n",
              "    <tr>\n",
              "      <th>1</th>\n",
              "      <td>1</td>\n",
              "      <td>1</td>\n",
              "      <td>Some Phd</td>\n",
              "      <td>1</td>\n",
              "      <td>0</td>\n",
              "      <td>0</td>\n",
              "      <td>0</td>\n",
              "      <td>1</td>\n",
              "      <td>0</td>\n",
              "      <td>0</td>\n",
              "      <td>1</td>\n",
              "      <td>22</td>\n",
              "      <td>1</td>\n",
              "      <td>0</td>\n",
              "      <td>0</td>\n",
              "      <td>0</td>\n",
              "      <td>1</td>\n",
              "      <td>1</td>\n",
              "      <td>1</td>\n",
              "      <td>0</td>\n",
              "      <td>0</td>\n",
              "      <td>1</td>\n",
              "      <td>0</td>\n",
              "      <td>1</td>\n",
              "      <td>18-29</td>\n",
              "      <td>Male</td>\n",
              "      <td>$50,000-$74,999</td>\n",
              "      <td>East South Central</td>\n",
              "      <td>MacOS Desktop / Laptop</td>\n",
              "      <td>4</td>\n",
              "      <td>0</td>\n",
              "      <td>1</td>\n",
              "      <td>8</td>\n",
              "      <td>1</td>\n",
              "      <td>1</td>\n",
              "    </tr>\n",
              "    <tr>\n",
              "      <th>2</th>\n",
              "      <td>1</td>\n",
              "      <td>0</td>\n",
              "      <td>Completed Undergraduate</td>\n",
              "      <td>1</td>\n",
              "      <td>0</td>\n",
              "      <td>0</td>\n",
              "      <td>0</td>\n",
              "      <td>1</td>\n",
              "      <td>0</td>\n",
              "      <td>0</td>\n",
              "      <td>0</td>\n",
              "      <td>100</td>\n",
              "      <td>1</td>\n",
              "      <td>0</td>\n",
              "      <td>0</td>\n",
              "      <td>0</td>\n",
              "      <td>0</td>\n",
              "      <td>0</td>\n",
              "      <td>0</td>\n",
              "      <td>0</td>\n",
              "      <td>0</td>\n",
              "      <td>0</td>\n",
              "      <td>0</td>\n",
              "      <td>0</td>\n",
              "      <td>30-44</td>\n",
              "      <td>Male</td>\n",
              "      <td>$150,000-$174,999</td>\n",
              "      <td>Pacific</td>\n",
              "      <td>MacOS Desktop / Laptop</td>\n",
              "      <td>2</td>\n",
              "      <td>1</td>\n",
              "      <td>1</td>\n",
              "      <td>4</td>\n",
              "      <td>5</td>\n",
              "      <td>1</td>\n",
              "    </tr>\n",
              "    <tr>\n",
              "      <th>3</th>\n",
              "      <td>0</td>\n",
              "      <td>0</td>\n",
              "      <td>Some Undergraduate</td>\n",
              "      <td>1</td>\n",
              "      <td>0</td>\n",
              "      <td>3</td>\n",
              "      <td>0</td>\n",
              "      <td>1</td>\n",
              "      <td>1</td>\n",
              "      <td>1</td>\n",
              "      <td>11</td>\n",
              "      <td>0</td>\n",
              "      <td>1</td>\n",
              "      <td>0</td>\n",
              "      <td>0</td>\n",
              "      <td>0</td>\n",
              "      <td>0</td>\n",
              "      <td>0</td>\n",
              "      <td>0</td>\n",
              "      <td>0</td>\n",
              "      <td>0</td>\n",
              "      <td>0</td>\n",
              "      <td>0</td>\n",
              "      <td>0</td>\n",
              "      <td>30-44</td>\n",
              "      <td>Male</td>\n",
              "      <td>$25,000-$49,999</td>\n",
              "      <td>New England</td>\n",
              "      <td>Windows Desktop / Laptop</td>\n",
              "      <td>5</td>\n",
              "      <td>1</td>\n",
              "      <td>1</td>\n",
              "      <td>7</td>\n",
              "      <td>4</td>\n",
              "      <td>3</td>\n",
              "    </tr>\n",
              "    <tr>\n",
              "      <th>4</th>\n",
              "      <td>1</td>\n",
              "      <td>1</td>\n",
              "      <td>Completed Undergraduate</td>\n",
              "      <td>1</td>\n",
              "      <td>1</td>\n",
              "      <td>35</td>\n",
              "      <td>1</td>\n",
              "      <td>1</td>\n",
              "      <td>0</td>\n",
              "      <td>1</td>\n",
              "      <td>33</td>\n",
              "      <td>32</td>\n",
              "      <td>1</td>\n",
              "      <td>0</td>\n",
              "      <td>0</td>\n",
              "      <td>4</td>\n",
              "      <td>1</td>\n",
              "      <td>1</td>\n",
              "      <td>1</td>\n",
              "      <td>1</td>\n",
              "      <td>1</td>\n",
              "      <td>1</td>\n",
              "      <td>1</td>\n",
              "      <td>1</td>\n",
              "      <td>30-44</td>\n",
              "      <td>Male</td>\n",
              "      <td>$25,000-$49,999</td>\n",
              "      <td>East North Central</td>\n",
              "      <td>iOS Phone / Tablet</td>\n",
              "      <td>2</td>\n",
              "      <td>1</td>\n",
              "      <td>1</td>\n",
              "      <td>7</td>\n",
              "      <td>0</td>\n",
              "      <td>4</td>\n",
              "    </tr>\n",
              "  </tbody>\n",
              "</table>\n",
              "</div>"
            ],
            "text/plain": [
              "   Employed  Mental patient  ... Region_encoded  Device_type\n",
              "0         0               0  ...              3            0\n",
              "1         1               1  ...              1            1\n",
              "2         1               0  ...              5            1\n",
              "3         0               0  ...              4            3\n",
              "4         1               1  ...              0            4\n",
              "\n",
              "[5 rows x 35 columns]"
            ]
          },
          "metadata": {
            "tags": []
          },
          "execution_count": 18
        }
      ]
    },
    {
      "cell_type": "code",
      "metadata": {
        "id": "C7JQWN0FG6D6",
        "colab_type": "code",
        "colab": {}
      },
      "source": [
        "#defining the independent and dependent variables\n",
        "X = mental_health.drop(['Depression','Education','Age','Gender','Household Income','Region','Device Type'], axis = 1)\n",
        "y = mental_health['Depression']\n"
      ],
      "execution_count": 0,
      "outputs": []
    },
    {
      "cell_type": "code",
      "metadata": {
        "id": "RbO3WNmGIjg_",
        "colab_type": "code",
        "colab": {}
      },
      "source": [
        "from sklearn.linear_model import LogisticRegression\n",
        "lr=LogisticRegression()\n",
        "\n",
        "\n",
        "\n",
        "from sklearn.model_selection import train_test_split\n",
        "X_train, X_test, y_train, y_test = train_test_split(X, y, test_size=0.33, random_state=42)"
      ],
      "execution_count": 0,
      "outputs": []
    },
    {
      "cell_type": "code",
      "metadata": {
        "id": "oKk2TXYpcKMd",
        "colab_type": "code",
        "outputId": "812a4d56-e993-41b7-fce4-18c75197b621",
        "colab": {
          "base_uri": "https://localhost:8080/",
          "height": 160
        }
      },
      "source": [
        "lr.fit(X_train,y_train)\n"
      ],
      "execution_count": 56,
      "outputs": [
        {
          "output_type": "stream",
          "text": [
            "/usr/local/lib/python3.6/dist-packages/sklearn/linear_model/logistic.py:432: FutureWarning: Default solver will be changed to 'lbfgs' in 0.22. Specify a solver to silence this warning.\n",
            "  FutureWarning)\n"
          ],
          "name": "stderr"
        },
        {
          "output_type": "execute_result",
          "data": {
            "text/plain": [
              "LogisticRegression(C=1.0, class_weight=None, dual=False, fit_intercept=True,\n",
              "                   intercept_scaling=1, l1_ratio=None, max_iter=100,\n",
              "                   multi_class='warn', n_jobs=None, penalty='l2',\n",
              "                   random_state=None, solver='warn', tol=0.0001, verbose=0,\n",
              "                   warm_start=False)"
            ]
          },
          "metadata": {
            "tags": []
          },
          "execution_count": 56
        }
      ]
    },
    {
      "cell_type": "code",
      "metadata": {
        "id": "5b9t_KofdI5a",
        "colab_type": "code",
        "outputId": "0150f565-debe-44e3-e78c-e930ddf506e5",
        "colab": {
          "base_uri": "https://localhost:8080/",
          "height": 105
        }
      },
      "source": [
        "lr.predict(X_test)"
      ],
      "execution_count": 57,
      "outputs": [
        {
          "output_type": "execute_result",
          "data": {
            "text/plain": [
              "array([0, 1, 0, 0, 0, 0, 0, 0, 0, 0, 0, 0, 0, 0, 1, 0, 0, 0, 1, 0, 0, 0,\n",
              "       1, 1, 0, 0, 1, 0, 0, 0, 1, 0, 0, 0, 0, 0, 0, 0, 0, 0, 0, 0, 1, 0,\n",
              "       0, 0, 0, 0, 0, 0, 0, 0, 0, 1, 0, 0, 1, 0, 0, 0, 0, 1, 1, 0, 0, 0,\n",
              "       0, 0, 0, 0, 0, 0, 0, 0, 1, 0, 0, 0, 0, 0, 0, 0, 1, 0, 0, 0, 0, 0,\n",
              "       0, 0, 1, 0, 0, 0, 0, 0, 0, 1, 0, 0, 0, 0, 1, 0, 0, 0, 0, 0, 1, 0])"
            ]
          },
          "metadata": {
            "tags": []
          },
          "execution_count": 57
        }
      ]
    },
    {
      "cell_type": "code",
      "metadata": {
        "id": "Rk1wdm9udatv",
        "colab_type": "code",
        "outputId": "48993b45-4e61-44c5-aa43-e14762a568a2",
        "colab": {
          "base_uri": "https://localhost:8080/",
          "height": 34
        }
      },
      "source": [
        "score = lr.score(X_test, y_test)\n",
        "print(score)"
      ],
      "execution_count": 58,
      "outputs": [
        {
          "output_type": "stream",
          "text": [
            "0.9181818181818182\n"
          ],
          "name": "stdout"
        }
      ]
    },
    {
      "cell_type": "markdown",
      "metadata": {
        "id": "5OwTVka8PNhK",
        "colab_type": "text"
      },
      "source": [
        "#what if you have multiple categorical variables and you still need to perform feature encoding on them?\n"
      ]
    },
    {
      "cell_type": "code",
      "metadata": {
        "id": "iuXaAvyPStnJ",
        "colab_type": "code",
        "colab": {
          "base_uri": "https://localhost:8080/",
          "height": 484
        },
        "outputId": "98ce6287-31c7-4a8e-bad7-edd855b28a9b"
      },
      "source": [
        "\n",
        "jj = pd.read_csv('potentialprojectfile_on_mentalHealth.csv')\n",
        "jj.head()"
      ],
      "execution_count": 97,
      "outputs": [
        {
          "output_type": "execute_result",
          "data": {
            "text/html": [
              "<div>\n",
              "<style scoped>\n",
              "    .dataframe tbody tr th:only-of-type {\n",
              "        vertical-align: middle;\n",
              "    }\n",
              "\n",
              "    .dataframe tbody tr th {\n",
              "        vertical-align: top;\n",
              "    }\n",
              "\n",
              "    .dataframe thead th {\n",
              "        text-align: right;\n",
              "    }\n",
              "</style>\n",
              "<table border=\"1\" class=\"dataframe\">\n",
              "  <thead>\n",
              "    <tr style=\"text-align: right;\">\n",
              "      <th></th>\n",
              "      <th>I am currently employed at least part-time</th>\n",
              "      <th>I identify as having a mental illness</th>\n",
              "      <th>Education</th>\n",
              "      <th>I have my own computer separate from a smart phone</th>\n",
              "      <th>I have been hospitalized before for my mental illness</th>\n",
              "      <th>How many days were you hospitalized for your mental illness</th>\n",
              "      <th>I am legally disabled</th>\n",
              "      <th>I have my regular access to the internet</th>\n",
              "      <th>I live with my parents</th>\n",
              "      <th>I have a gap in my resume</th>\n",
              "      <th>Total length of any gaps in my resume in months.</th>\n",
              "      <th>Annual income (including any social welfare programs) in USD</th>\n",
              "      <th>I am unemployed</th>\n",
              "      <th>I read outside of work and school</th>\n",
              "      <th>Annual income from social welfare programs</th>\n",
              "      <th>I receive food stamps</th>\n",
              "      <th>I am on section 8 housing</th>\n",
              "      <th>How many times were you hospitalized for your mental illness</th>\n",
              "      <th>Lack of concentration</th>\n",
              "      <th>Anxiety</th>\n",
              "      <th>Depression</th>\n",
              "      <th>Obsessive thinking</th>\n",
              "      <th>Mood swings</th>\n",
              "      <th>Panic attacks</th>\n",
              "      <th>Compulsive behavior</th>\n",
              "      <th>Tiredness</th>\n",
              "      <th>Age</th>\n",
              "      <th>Gender</th>\n",
              "      <th>Household Income</th>\n",
              "      <th>Region</th>\n",
              "      <th>Device Type</th>\n",
              "    </tr>\n",
              "  </thead>\n",
              "  <tbody>\n",
              "    <tr>\n",
              "      <th>0</th>\n",
              "      <td>0</td>\n",
              "      <td>0</td>\n",
              "      <td>High School or GED</td>\n",
              "      <td>0</td>\n",
              "      <td>0</td>\n",
              "      <td>0.0</td>\n",
              "      <td>0</td>\n",
              "      <td>1</td>\n",
              "      <td>0</td>\n",
              "      <td>1</td>\n",
              "      <td>24</td>\n",
              "      <td>35</td>\n",
              "      <td>1</td>\n",
              "      <td>1</td>\n",
              "      <td>0</td>\n",
              "      <td>0</td>\n",
              "      <td>0</td>\n",
              "      <td>0</td>\n",
              "      <td>1.0</td>\n",
              "      <td>1</td>\n",
              "      <td>1</td>\n",
              "      <td>1.0</td>\n",
              "      <td>0.0</td>\n",
              "      <td>1.0</td>\n",
              "      <td>0.0</td>\n",
              "      <td>0.0</td>\n",
              "      <td>30-44</td>\n",
              "      <td>Male</td>\n",
              "      <td>$25,000-$49,999</td>\n",
              "      <td>Mountain</td>\n",
              "      <td>Android Phone / Tablet</td>\n",
              "    </tr>\n",
              "    <tr>\n",
              "      <th>1</th>\n",
              "      <td>1</td>\n",
              "      <td>1</td>\n",
              "      <td>Some Phd</td>\n",
              "      <td>1</td>\n",
              "      <td>0</td>\n",
              "      <td>0.0</td>\n",
              "      <td>0</td>\n",
              "      <td>1</td>\n",
              "      <td>0</td>\n",
              "      <td>0</td>\n",
              "      <td>1</td>\n",
              "      <td>22</td>\n",
              "      <td>0</td>\n",
              "      <td>1</td>\n",
              "      <td>0</td>\n",
              "      <td>0</td>\n",
              "      <td>0</td>\n",
              "      <td>0</td>\n",
              "      <td>1.0</td>\n",
              "      <td>1</td>\n",
              "      <td>1</td>\n",
              "      <td>0.0</td>\n",
              "      <td>0.0</td>\n",
              "      <td>1.0</td>\n",
              "      <td>0.0</td>\n",
              "      <td>1.0</td>\n",
              "      <td>18-29</td>\n",
              "      <td>Male</td>\n",
              "      <td>$50,000-$74,999</td>\n",
              "      <td>East South Central</td>\n",
              "      <td>MacOS Desktop / Laptop</td>\n",
              "    </tr>\n",
              "    <tr>\n",
              "      <th>2</th>\n",
              "      <td>1</td>\n",
              "      <td>0</td>\n",
              "      <td>Completed Undergraduate</td>\n",
              "      <td>1</td>\n",
              "      <td>0</td>\n",
              "      <td>0.0</td>\n",
              "      <td>0</td>\n",
              "      <td>1</td>\n",
              "      <td>0</td>\n",
              "      <td>0</td>\n",
              "      <td>0</td>\n",
              "      <td>100</td>\n",
              "      <td>0</td>\n",
              "      <td>1</td>\n",
              "      <td>0</td>\n",
              "      <td>0</td>\n",
              "      <td>0</td>\n",
              "      <td>0</td>\n",
              "      <td>0.0</td>\n",
              "      <td>0</td>\n",
              "      <td>0</td>\n",
              "      <td>0.0</td>\n",
              "      <td>0.0</td>\n",
              "      <td>0.0</td>\n",
              "      <td>0.0</td>\n",
              "      <td>0.0</td>\n",
              "      <td>30-44</td>\n",
              "      <td>Male</td>\n",
              "      <td>$150,000-$174,999</td>\n",
              "      <td>Pacific</td>\n",
              "      <td>MacOS Desktop / Laptop</td>\n",
              "    </tr>\n",
              "    <tr>\n",
              "      <th>3</th>\n",
              "      <td>0</td>\n",
              "      <td>0</td>\n",
              "      <td>Some Undergraduate</td>\n",
              "      <td>1</td>\n",
              "      <td>0</td>\n",
              "      <td>NaN</td>\n",
              "      <td>0</td>\n",
              "      <td>1</td>\n",
              "      <td>1</td>\n",
              "      <td>1</td>\n",
              "      <td>11</td>\n",
              "      <td>0</td>\n",
              "      <td>1</td>\n",
              "      <td>1</td>\n",
              "      <td>0</td>\n",
              "      <td>0</td>\n",
              "      <td>0</td>\n",
              "      <td>0</td>\n",
              "      <td>0.0</td>\n",
              "      <td>0</td>\n",
              "      <td>0</td>\n",
              "      <td>0.0</td>\n",
              "      <td>0.0</td>\n",
              "      <td>0.0</td>\n",
              "      <td>0.0</td>\n",
              "      <td>0.0</td>\n",
              "      <td>30-44</td>\n",
              "      <td>Male</td>\n",
              "      <td>$25,000-$49,999</td>\n",
              "      <td>New England</td>\n",
              "      <td>Windows Desktop / Laptop</td>\n",
              "    </tr>\n",
              "    <tr>\n",
              "      <th>4</th>\n",
              "      <td>1</td>\n",
              "      <td>1</td>\n",
              "      <td>Completed Undergraduate</td>\n",
              "      <td>1</td>\n",
              "      <td>1</td>\n",
              "      <td>35.0</td>\n",
              "      <td>1</td>\n",
              "      <td>1</td>\n",
              "      <td>0</td>\n",
              "      <td>1</td>\n",
              "      <td>33</td>\n",
              "      <td>32</td>\n",
              "      <td>0</td>\n",
              "      <td>1</td>\n",
              "      <td>30</td>\n",
              "      <td>0</td>\n",
              "      <td>0</td>\n",
              "      <td>4</td>\n",
              "      <td>1.0</td>\n",
              "      <td>1</td>\n",
              "      <td>1</td>\n",
              "      <td>1.0</td>\n",
              "      <td>1.0</td>\n",
              "      <td>1.0</td>\n",
              "      <td>1.0</td>\n",
              "      <td>1.0</td>\n",
              "      <td>30-44</td>\n",
              "      <td>Male</td>\n",
              "      <td>$25,000-$49,999</td>\n",
              "      <td>East North Central</td>\n",
              "      <td>iOS Phone / Tablet</td>\n",
              "    </tr>\n",
              "  </tbody>\n",
              "</table>\n",
              "</div>"
            ],
            "text/plain": [
              "   I am currently employed at least part-time  ...               Device Type\n",
              "0                                           0  ...    Android Phone / Tablet\n",
              "1                                           1  ...    MacOS Desktop / Laptop\n",
              "2                                           1  ...    MacOS Desktop / Laptop\n",
              "3                                           0  ...  Windows Desktop / Laptop\n",
              "4                                           1  ...        iOS Phone / Tablet\n",
              "\n",
              "[5 rows x 31 columns]"
            ]
          },
          "metadata": {
            "tags": []
          },
          "execution_count": 97
        }
      ]
    },
    {
      "cell_type": "code",
      "metadata": {
        "id": "ZzfCtUKNTQbe",
        "colab_type": "code",
        "colab": {
          "base_uri": "https://localhost:8080/",
          "height": 34
        },
        "outputId": "154bc23c-10e1-4fc7-d458-92d664b4244a"
      },
      "source": [
        "jj.drop(['I am unemployed','Annual income from social welfare programs'], axis=1,inplace = True)\n",
        "jj.shape"
      ],
      "execution_count": 98,
      "outputs": [
        {
          "output_type": "execute_result",
          "data": {
            "text/plain": [
              "(334, 29)"
            ]
          },
          "metadata": {
            "tags": []
          },
          "execution_count": 98
        }
      ]
    },
    {
      "cell_type": "code",
      "metadata": {
        "id": "6725JQw8UAPE",
        "colab_type": "code",
        "colab": {}
      },
      "source": [
        "jj.rename(columns={\"I am currently employed at least part-time\": \"Employed\", \"I identify as having a mental illness\": \"Mental patient\", \"I have my own computer separate from a smart phone\": \"Owns a PC\"},inplace = True)\n",
        "jj.rename(columns = {\"I have been hospitalized before for my mental illness\":\"admited for mental illness\",\"How many days were you hospitalized for your mental illness\":\"No of days hospitalized\",\"I am legally disabled\":\"legally disabled\",\"I have my regular access to the internet\":\"internet access\",\"I live with my parents\":\"iving with parents\",\"I have a gap in my resume\":\"gap in resume\",\"Annual income (including any social welfare programs) in USD\":\"annual income\",\"I read outside of work and school\":\"reads\",\"I receive food stamps\":\"Food stamps\",\"I am on section 8 housing\":\"under section 8\",\"How many times were you hospitalized for your mental illness\":\"No of times hospitalized\"},inplace = True)"
      ],
      "execution_count": 0,
      "outputs": []
    },
    {
      "cell_type": "code",
      "metadata": {
        "id": "G8-0Su37URAM",
        "colab_type": "code",
        "colab": {}
      },
      "source": [
        "days_mean =jj['No of days hospitalized'].mean()\n",
        "jj['No of days hospitalized'].fillna(days_mean,inplace=True)\n"
      ],
      "execution_count": 0,
      "outputs": []
    },
    {
      "cell_type": "code",
      "metadata": {
        "id": "Fa3pyP8cUZpc",
        "colab_type": "code",
        "colab": {}
      },
      "source": [
        "jj[jj.isnull().any(axis=1)]\n",
        "jj.drop([77,203,333],inplace = True)"
      ],
      "execution_count": 0,
      "outputs": []
    },
    {
      "cell_type": "code",
      "metadata": {
        "id": "KBYGBYonUj00",
        "colab_type": "code",
        "colab": {}
      },
      "source": [
        "jj['No of days hospitalized'] =jj['No of days hospitalized'].astype(int)\n",
        "jj['Lack of concentration'] =jj['Lack of concentration'].astype(int)\n",
        "jj['Obsessive thinking'] =jj['Obsessive thinking'].astype(int)\n",
        "jj['Mood swings'] =jj['Mood swings'].astype(int)\n",
        "jj['Panic attacks'] =jj['Panic attacks'].astype(int)\n",
        "jj['Compulsive behavior'] =jj['Compulsive behavior'].astype(int)\n",
        "jj['Tiredness'] =jj['Tiredness'].astype(int)"
      ],
      "execution_count": 0,
      "outputs": []
    },
    {
      "cell_type": "code",
      "metadata": {
        "id": "iXdZowLzU3fm",
        "colab_type": "code",
        "colab": {
          "base_uri": "https://localhost:8080/",
          "height": 545
        },
        "outputId": "eea87de0-161d-414f-d5e9-dc57550b4c70"
      },
      "source": [
        "jj.isnull().sum()"
      ],
      "execution_count": 103,
      "outputs": [
        {
          "output_type": "execute_result",
          "data": {
            "text/plain": [
              "Employed                                            0\n",
              "Mental patient                                      0\n",
              "Education                                           0\n",
              "Owns a PC                                           0\n",
              "admited for mental illness                          0\n",
              "No of days hospitalized                             0\n",
              "legally disabled                                    0\n",
              "internet access                                     0\n",
              "iving with parents                                  0\n",
              "gap in resume                                       0\n",
              "Total length of any gaps in my resume in months.    0\n",
              "annual income                                       0\n",
              "reads                                               0\n",
              "Food stamps                                         0\n",
              "under section 8                                     0\n",
              "No of times hospitalized                            0\n",
              "Lack of concentration                               0\n",
              "Anxiety                                             0\n",
              "Depression                                          0\n",
              "Obsessive thinking                                  0\n",
              "Mood swings                                         0\n",
              "Panic attacks                                       0\n",
              "Compulsive behavior                                 0\n",
              "Tiredness                                           0\n",
              "Age                                                 0\n",
              "Gender                                              0\n",
              "Household Income                                    0\n",
              "Region                                              0\n",
              "Device Type                                         0\n",
              "dtype: int64"
            ]
          },
          "metadata": {
            "tags": []
          },
          "execution_count": 103
        }
      ]
    },
    {
      "cell_type": "code",
      "metadata": {
        "id": "SCqt0aqfZkau",
        "colab_type": "code",
        "colab": {
          "base_uri": "https://localhost:8080/",
          "height": 527
        },
        "outputId": "6ecef213-fae4-44fc-cfbc-ec36ab25a0f2"
      },
      "source": [
        "for i  in jj.columns:\n",
        "  print(i,':',len(jj[i].unique()),'labels')"
      ],
      "execution_count": 104,
      "outputs": [
        {
          "output_type": "stream",
          "text": [
            "Employed : 2 labels\n",
            "Mental patient : 2 labels\n",
            "Education : 8 labels\n",
            "Owns a PC : 2 labels\n",
            "admited for mental illness : 2 labels\n",
            "No of days hospitalized : 25 labels\n",
            "legally disabled : 2 labels\n",
            "internet access : 2 labels\n",
            "iving with parents : 2 labels\n",
            "gap in resume : 2 labels\n",
            "Total length of any gaps in my resume in months. : 40 labels\n",
            "annual income : 84 labels\n",
            "reads : 2 labels\n",
            "Food stamps : 2 labels\n",
            "under section 8 : 2 labels\n",
            "No of times hospitalized : 13 labels\n",
            "Lack of concentration : 2 labels\n",
            "Anxiety : 2 labels\n",
            "Depression : 2 labels\n",
            "Obsessive thinking : 2 labels\n",
            "Mood swings : 2 labels\n",
            "Panic attacks : 2 labels\n",
            "Compulsive behavior : 2 labels\n",
            "Tiredness : 2 labels\n",
            "Age : 4 labels\n",
            "Gender : 2 labels\n",
            "Household Income : 11 labels\n",
            "Region : 9 labels\n",
            "Device Type : 5 labels\n"
          ],
          "name": "stdout"
        }
      ]
    },
    {
      "cell_type": "code",
      "metadata": {
        "id": "UNS4hJVlU_zZ",
        "colab_type": "code",
        "colab": {}
      },
      "source": [
        "dum=pd.get_dummies(jj['Education'],drop_first=True)\n",
        "dum=pd.get_dummies(jj['Age'],drop_first=True)\n",
        "dum=pd.get_dummies(jj['Gender'],drop_first=True)\n",
        "dum=pd.get_dummies(jj['Household Income'],drop_first=True)\n",
        "dum=pd.get_dummies(jj['Region'],drop_first=True)\n",
        "dum=pd.get_dummies(jj['Device Type'],drop_first=True)\n"
      ],
      "execution_count": 0,
      "outputs": []
    },
    {
      "cell_type": "code",
      "metadata": {
        "id": "i1UetHZ2VKRs",
        "colab_type": "code",
        "colab": {}
      },
      "source": [
        "jj=pd.concat([dum,jj],axis=1)"
      ],
      "execution_count": 0,
      "outputs": []
    },
    {
      "cell_type": "code",
      "metadata": {
        "id": "_XOHREcJVSaS",
        "colab_type": "code",
        "colab": {}
      },
      "source": [
        "jj.drop('Education',axis=1,inplace=True)\n",
        "jj.drop('Age',axis=1,inplace=True)\n",
        "jj.drop('Gender',axis=1,inplace=True)\n",
        "jj.drop('Household Income',axis=1,inplace=True)\n",
        "jj.drop('Device Type',axis=1,inplace=True)\n",
        "jj.drop('Region',axis=1,inplace=True)"
      ],
      "execution_count": 0,
      "outputs": []
    },
    {
      "cell_type": "code",
      "metadata": {
        "id": "eb5sJduiVq1m",
        "colab_type": "code",
        "colab": {
          "base_uri": "https://localhost:8080/",
          "height": 299
        },
        "outputId": "6ca47e03-5556-493b-9984-648d84625877"
      },
      "source": [
        "jj.head()\n"
      ],
      "execution_count": 108,
      "outputs": [
        {
          "output_type": "execute_result",
          "data": {
            "text/html": [
              "<div>\n",
              "<style scoped>\n",
              "    .dataframe tbody tr th:only-of-type {\n",
              "        vertical-align: middle;\n",
              "    }\n",
              "\n",
              "    .dataframe tbody tr th {\n",
              "        vertical-align: top;\n",
              "    }\n",
              "\n",
              "    .dataframe thead th {\n",
              "        text-align: right;\n",
              "    }\n",
              "</style>\n",
              "<table border=\"1\" class=\"dataframe\">\n",
              "  <thead>\n",
              "    <tr style=\"text-align: right;\">\n",
              "      <th></th>\n",
              "      <th>MacOS Desktop / Laptop</th>\n",
              "      <th>Other</th>\n",
              "      <th>Windows Desktop / Laptop</th>\n",
              "      <th>iOS Phone / Tablet</th>\n",
              "      <th>Employed</th>\n",
              "      <th>Mental patient</th>\n",
              "      <th>Owns a PC</th>\n",
              "      <th>admited for mental illness</th>\n",
              "      <th>No of days hospitalized</th>\n",
              "      <th>legally disabled</th>\n",
              "      <th>internet access</th>\n",
              "      <th>iving with parents</th>\n",
              "      <th>gap in resume</th>\n",
              "      <th>Total length of any gaps in my resume in months.</th>\n",
              "      <th>annual income</th>\n",
              "      <th>reads</th>\n",
              "      <th>Food stamps</th>\n",
              "      <th>under section 8</th>\n",
              "      <th>No of times hospitalized</th>\n",
              "      <th>Lack of concentration</th>\n",
              "      <th>Anxiety</th>\n",
              "      <th>Depression</th>\n",
              "      <th>Obsessive thinking</th>\n",
              "      <th>Mood swings</th>\n",
              "      <th>Panic attacks</th>\n",
              "      <th>Compulsive behavior</th>\n",
              "      <th>Tiredness</th>\n",
              "    </tr>\n",
              "  </thead>\n",
              "  <tbody>\n",
              "    <tr>\n",
              "      <th>0</th>\n",
              "      <td>0</td>\n",
              "      <td>0</td>\n",
              "      <td>0</td>\n",
              "      <td>0</td>\n",
              "      <td>0</td>\n",
              "      <td>0</td>\n",
              "      <td>0</td>\n",
              "      <td>0</td>\n",
              "      <td>0</td>\n",
              "      <td>0</td>\n",
              "      <td>1</td>\n",
              "      <td>0</td>\n",
              "      <td>1</td>\n",
              "      <td>24</td>\n",
              "      <td>35</td>\n",
              "      <td>1</td>\n",
              "      <td>0</td>\n",
              "      <td>0</td>\n",
              "      <td>0</td>\n",
              "      <td>1</td>\n",
              "      <td>1</td>\n",
              "      <td>1</td>\n",
              "      <td>1</td>\n",
              "      <td>0</td>\n",
              "      <td>1</td>\n",
              "      <td>0</td>\n",
              "      <td>0</td>\n",
              "    </tr>\n",
              "    <tr>\n",
              "      <th>1</th>\n",
              "      <td>1</td>\n",
              "      <td>0</td>\n",
              "      <td>0</td>\n",
              "      <td>0</td>\n",
              "      <td>1</td>\n",
              "      <td>1</td>\n",
              "      <td>1</td>\n",
              "      <td>0</td>\n",
              "      <td>0</td>\n",
              "      <td>0</td>\n",
              "      <td>1</td>\n",
              "      <td>0</td>\n",
              "      <td>0</td>\n",
              "      <td>1</td>\n",
              "      <td>22</td>\n",
              "      <td>1</td>\n",
              "      <td>0</td>\n",
              "      <td>0</td>\n",
              "      <td>0</td>\n",
              "      <td>1</td>\n",
              "      <td>1</td>\n",
              "      <td>1</td>\n",
              "      <td>0</td>\n",
              "      <td>0</td>\n",
              "      <td>1</td>\n",
              "      <td>0</td>\n",
              "      <td>1</td>\n",
              "    </tr>\n",
              "    <tr>\n",
              "      <th>2</th>\n",
              "      <td>1</td>\n",
              "      <td>0</td>\n",
              "      <td>0</td>\n",
              "      <td>0</td>\n",
              "      <td>1</td>\n",
              "      <td>0</td>\n",
              "      <td>1</td>\n",
              "      <td>0</td>\n",
              "      <td>0</td>\n",
              "      <td>0</td>\n",
              "      <td>1</td>\n",
              "      <td>0</td>\n",
              "      <td>0</td>\n",
              "      <td>0</td>\n",
              "      <td>100</td>\n",
              "      <td>1</td>\n",
              "      <td>0</td>\n",
              "      <td>0</td>\n",
              "      <td>0</td>\n",
              "      <td>0</td>\n",
              "      <td>0</td>\n",
              "      <td>0</td>\n",
              "      <td>0</td>\n",
              "      <td>0</td>\n",
              "      <td>0</td>\n",
              "      <td>0</td>\n",
              "      <td>0</td>\n",
              "    </tr>\n",
              "    <tr>\n",
              "      <th>3</th>\n",
              "      <td>0</td>\n",
              "      <td>0</td>\n",
              "      <td>1</td>\n",
              "      <td>0</td>\n",
              "      <td>0</td>\n",
              "      <td>0</td>\n",
              "      <td>1</td>\n",
              "      <td>0</td>\n",
              "      <td>3</td>\n",
              "      <td>0</td>\n",
              "      <td>1</td>\n",
              "      <td>1</td>\n",
              "      <td>1</td>\n",
              "      <td>11</td>\n",
              "      <td>0</td>\n",
              "      <td>1</td>\n",
              "      <td>0</td>\n",
              "      <td>0</td>\n",
              "      <td>0</td>\n",
              "      <td>0</td>\n",
              "      <td>0</td>\n",
              "      <td>0</td>\n",
              "      <td>0</td>\n",
              "      <td>0</td>\n",
              "      <td>0</td>\n",
              "      <td>0</td>\n",
              "      <td>0</td>\n",
              "    </tr>\n",
              "    <tr>\n",
              "      <th>4</th>\n",
              "      <td>0</td>\n",
              "      <td>0</td>\n",
              "      <td>0</td>\n",
              "      <td>1</td>\n",
              "      <td>1</td>\n",
              "      <td>1</td>\n",
              "      <td>1</td>\n",
              "      <td>1</td>\n",
              "      <td>35</td>\n",
              "      <td>1</td>\n",
              "      <td>1</td>\n",
              "      <td>0</td>\n",
              "      <td>1</td>\n",
              "      <td>33</td>\n",
              "      <td>32</td>\n",
              "      <td>1</td>\n",
              "      <td>0</td>\n",
              "      <td>0</td>\n",
              "      <td>4</td>\n",
              "      <td>1</td>\n",
              "      <td>1</td>\n",
              "      <td>1</td>\n",
              "      <td>1</td>\n",
              "      <td>1</td>\n",
              "      <td>1</td>\n",
              "      <td>1</td>\n",
              "      <td>1</td>\n",
              "    </tr>\n",
              "  </tbody>\n",
              "</table>\n",
              "</div>"
            ],
            "text/plain": [
              "   MacOS Desktop / Laptop  Other  ...  Compulsive behavior  Tiredness\n",
              "0                       0      0  ...                    0          0\n",
              "1                       1      0  ...                    0          1\n",
              "2                       1      0  ...                    0          0\n",
              "3                       0      0  ...                    0          0\n",
              "4                       0      0  ...                    1          1\n",
              "\n",
              "[5 rows x 27 columns]"
            ]
          },
          "metadata": {
            "tags": []
          },
          "execution_count": 108
        }
      ]
    },
    {
      "cell_type": "code",
      "metadata": {
        "id": "p-_EQuUkcsrR",
        "colab_type": "code",
        "colab": {}
      },
      "source": [
        "jj"
      ],
      "execution_count": 0,
      "outputs": []
    },
    {
      "cell_type": "code",
      "metadata": {
        "id": "x8QHLf-aW5Bq",
        "colab_type": "code",
        "colab": {
          "base_uri": "https://localhost:8080/",
          "height": 510
        },
        "outputId": "d2effeb1-eac2-4692-c51d-a80b2cfe0152"
      },
      "source": [
        "jj.dtypes"
      ],
      "execution_count": 109,
      "outputs": [
        {
          "output_type": "execute_result",
          "data": {
            "text/plain": [
              "MacOS Desktop / Laptop                              uint8\n",
              "Other                                               uint8\n",
              "Windows Desktop / Laptop                            uint8\n",
              "iOS Phone / Tablet                                  uint8\n",
              "Employed                                            int64\n",
              "Mental patient                                      int64\n",
              "Owns a PC                                           int64\n",
              "admited for mental illness                          int64\n",
              "No of days hospitalized                             int64\n",
              "legally disabled                                    int64\n",
              "internet access                                     int64\n",
              "iving with parents                                  int64\n",
              "gap in resume                                       int64\n",
              "Total length of any gaps in my resume in months.    int64\n",
              "annual income                                       int64\n",
              "reads                                               int64\n",
              "Food stamps                                         int64\n",
              "under section 8                                     int64\n",
              "No of times hospitalized                            int64\n",
              "Lack of concentration                               int64\n",
              "Anxiety                                             int64\n",
              "Depression                                          int64\n",
              "Obsessive thinking                                  int64\n",
              "Mood swings                                         int64\n",
              "Panic attacks                                       int64\n",
              "Compulsive behavior                                 int64\n",
              "Tiredness                                           int64\n",
              "dtype: object"
            ]
          },
          "metadata": {
            "tags": []
          },
          "execution_count": 109
        }
      ]
    },
    {
      "cell_type": "code",
      "metadata": {
        "id": "TjGl3Pbtc5-c",
        "colab_type": "code",
        "colab": {}
      },
      "source": [
        "jj['MacOS Desktop / Laptop'] =jj['MacOS Desktop / Laptop'].astype(int)\n",
        "jj['Other'] =jj['Other'].astype(int)\n",
        "jj['Windows Desktop / Laptop'] =jj['Windows Desktop / Laptop'].astype(int)\n",
        "\n",
        "jj['Employed'] =jj['Employed'].astype(int)\n"
      ],
      "execution_count": 0,
      "outputs": []
    },
    {
      "cell_type": "code",
      "metadata": {
        "id": "nHgiN2TZW9ME",
        "colab_type": "code",
        "colab": {}
      },
      "source": [
        "X = jj.drop(['Depression'],axis = 1)\n",
        "y = jj['Depression']"
      ],
      "execution_count": 0,
      "outputs": []
    },
    {
      "cell_type": "code",
      "metadata": {
        "id": "8xmE4y4_b2dO",
        "colab_type": "code",
        "colab": {}
      },
      "source": [
        "from sklearn.linear_model import LogisticRegression\n",
        "lr=LogisticRegression()\n",
        "\n",
        "\n",
        "\n",
        "from sklearn.model_selection import train_test_split\n",
        "X_train, X_test, y_train, y_test = train_test_split(X, y, test_size=0.2, random_state=40)"
      ],
      "execution_count": 0,
      "outputs": []
    },
    {
      "cell_type": "code",
      "metadata": {
        "id": "QHzMfRs1cFIP",
        "colab_type": "code",
        "colab": {
          "base_uri": "https://localhost:8080/",
          "height": 160
        },
        "outputId": "a2a26f8a-203d-4e56-f71b-7a42709183c2"
      },
      "source": [
        "lr.fit(X_train,y_train)"
      ],
      "execution_count": 128,
      "outputs": [
        {
          "output_type": "stream",
          "text": [
            "/usr/local/lib/python3.6/dist-packages/sklearn/linear_model/logistic.py:432: FutureWarning: Default solver will be changed to 'lbfgs' in 0.22. Specify a solver to silence this warning.\n",
            "  FutureWarning)\n"
          ],
          "name": "stderr"
        },
        {
          "output_type": "execute_result",
          "data": {
            "text/plain": [
              "LogisticRegression(C=1.0, class_weight=None, dual=False, fit_intercept=True,\n",
              "                   intercept_scaling=1, l1_ratio=None, max_iter=100,\n",
              "                   multi_class='warn', n_jobs=None, penalty='l2',\n",
              "                   random_state=None, solver='warn', tol=0.0001, verbose=0,\n",
              "                   warm_start=False)"
            ]
          },
          "metadata": {
            "tags": []
          },
          "execution_count": 128
        }
      ]
    },
    {
      "cell_type": "code",
      "metadata": {
        "id": "KuDxVp-zcJno",
        "colab_type": "code",
        "colab": {
          "base_uri": "https://localhost:8080/",
          "height": 34
        },
        "outputId": "f0a86404-82bd-47b2-bdaf-ead12d929ec5"
      },
      "source": [
        "score = lr.score(X_test, y_test)\n",
        "print(score)"
      ],
      "execution_count": 129,
      "outputs": [
        {
          "output_type": "stream",
          "text": [
            "0.8805970149253731\n"
          ],
          "name": "stdout"
        }
      ]
    }
  ]
}